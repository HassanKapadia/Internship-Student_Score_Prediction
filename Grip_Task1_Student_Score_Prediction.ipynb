{
  "nbformat": 4,
  "nbformat_minor": 0,
  "metadata": {
    "colab": {
      "name": "Grip-Task1_Student-Score-Prediction.ipynb",
      "provenance": []
    },
    "kernelspec": {
      "name": "python3",
      "display_name": "Python 3"
    }
  },
  "cells": [
    {
      "cell_type": "markdown",
      "metadata": {
        "id": "8cu9t3w0CMfy"
      },
      "source": [
        "## ***Introduction***\r\n",
        "\r\n",
        "\r\n",
        "\r\n",
        "*    ***Project/Task by Hassan Kapadia as a part of Internship at The Sparks Foundation (TSF) under Graduate Rotational Internship Program (GRIP) March 2021.***\r\n",
        "\r\n",
        "*   ***Email:*** hsn.kapadia@gmail.com\r\n",
        "---\r\n",
        "\r\n",
        "\r\n",
        "*  ***Task:*** Predict the percentage of a student based on the no. of study hours using Linear Regression.\r\n",
        "\r\n",
        "\r\n",
        "*   ***Linear Regression*** attempts to model the relationship between two variables by fitting a linear equation to observed data.\r\n",
        "\r\n",
        "\r\n",
        "*   ***Dataset Link***: http://bit.ly/w-data"
      ]
    },
    {
      "cell_type": "markdown",
      "metadata": {
        "id": "-Revvn01DI-T"
      },
      "source": [
        "# ***Importing Libraries***"
      ]
    },
    {
      "cell_type": "code",
      "metadata": {
        "id": "A8-vozr-DNbW"
      },
      "source": [
        "import pandas as pd\r\n",
        "from matplotlib import pyplot as plt\r\n",
        "from sklearn import model_selection\r\n",
        "from sklearn.linear_model import LinearRegression\r\n",
        "from sklearn.metrics import mean_absolute_error,mean_squared_error,r2_score"
      ],
      "execution_count": 59,
      "outputs": []
    },
    {
      "cell_type": "markdown",
      "metadata": {
        "id": "1tgfIQqyDgYU"
      },
      "source": [
        "# ***Loading the Data***"
      ]
    },
    {
      "cell_type": "code",
      "metadata": {
        "colab": {
          "base_uri": "https://localhost:8080/",
          "height": 824
        },
        "id": "ltKovd9_DlMF",
        "outputId": "3d5bfc3f-a0e8-409c-89a0-4eb3ec901f88"
      },
      "source": [
        "data=pd.read_csv('/content/student_scores - student_scores.csv')\r\n",
        "data"
      ],
      "execution_count": 60,
      "outputs": [
        {
          "output_type": "execute_result",
          "data": {
            "text/html": [
              "<div>\n",
              "<style scoped>\n",
              "    .dataframe tbody tr th:only-of-type {\n",
              "        vertical-align: middle;\n",
              "    }\n",
              "\n",
              "    .dataframe tbody tr th {\n",
              "        vertical-align: top;\n",
              "    }\n",
              "\n",
              "    .dataframe thead th {\n",
              "        text-align: right;\n",
              "    }\n",
              "</style>\n",
              "<table border=\"1\" class=\"dataframe\">\n",
              "  <thead>\n",
              "    <tr style=\"text-align: right;\">\n",
              "      <th></th>\n",
              "      <th>Hours</th>\n",
              "      <th>Scores</th>\n",
              "    </tr>\n",
              "  </thead>\n",
              "  <tbody>\n",
              "    <tr>\n",
              "      <th>0</th>\n",
              "      <td>2.5</td>\n",
              "      <td>21</td>\n",
              "    </tr>\n",
              "    <tr>\n",
              "      <th>1</th>\n",
              "      <td>5.1</td>\n",
              "      <td>47</td>\n",
              "    </tr>\n",
              "    <tr>\n",
              "      <th>2</th>\n",
              "      <td>3.2</td>\n",
              "      <td>27</td>\n",
              "    </tr>\n",
              "    <tr>\n",
              "      <th>3</th>\n",
              "      <td>8.5</td>\n",
              "      <td>75</td>\n",
              "    </tr>\n",
              "    <tr>\n",
              "      <th>4</th>\n",
              "      <td>3.5</td>\n",
              "      <td>30</td>\n",
              "    </tr>\n",
              "    <tr>\n",
              "      <th>5</th>\n",
              "      <td>1.5</td>\n",
              "      <td>20</td>\n",
              "    </tr>\n",
              "    <tr>\n",
              "      <th>6</th>\n",
              "      <td>9.2</td>\n",
              "      <td>88</td>\n",
              "    </tr>\n",
              "    <tr>\n",
              "      <th>7</th>\n",
              "      <td>5.5</td>\n",
              "      <td>60</td>\n",
              "    </tr>\n",
              "    <tr>\n",
              "      <th>8</th>\n",
              "      <td>8.3</td>\n",
              "      <td>81</td>\n",
              "    </tr>\n",
              "    <tr>\n",
              "      <th>9</th>\n",
              "      <td>2.7</td>\n",
              "      <td>25</td>\n",
              "    </tr>\n",
              "    <tr>\n",
              "      <th>10</th>\n",
              "      <td>7.7</td>\n",
              "      <td>85</td>\n",
              "    </tr>\n",
              "    <tr>\n",
              "      <th>11</th>\n",
              "      <td>5.9</td>\n",
              "      <td>62</td>\n",
              "    </tr>\n",
              "    <tr>\n",
              "      <th>12</th>\n",
              "      <td>4.5</td>\n",
              "      <td>41</td>\n",
              "    </tr>\n",
              "    <tr>\n",
              "      <th>13</th>\n",
              "      <td>3.3</td>\n",
              "      <td>42</td>\n",
              "    </tr>\n",
              "    <tr>\n",
              "      <th>14</th>\n",
              "      <td>1.1</td>\n",
              "      <td>17</td>\n",
              "    </tr>\n",
              "    <tr>\n",
              "      <th>15</th>\n",
              "      <td>8.9</td>\n",
              "      <td>95</td>\n",
              "    </tr>\n",
              "    <tr>\n",
              "      <th>16</th>\n",
              "      <td>2.5</td>\n",
              "      <td>30</td>\n",
              "    </tr>\n",
              "    <tr>\n",
              "      <th>17</th>\n",
              "      <td>1.9</td>\n",
              "      <td>24</td>\n",
              "    </tr>\n",
              "    <tr>\n",
              "      <th>18</th>\n",
              "      <td>6.1</td>\n",
              "      <td>67</td>\n",
              "    </tr>\n",
              "    <tr>\n",
              "      <th>19</th>\n",
              "      <td>7.4</td>\n",
              "      <td>69</td>\n",
              "    </tr>\n",
              "    <tr>\n",
              "      <th>20</th>\n",
              "      <td>2.7</td>\n",
              "      <td>30</td>\n",
              "    </tr>\n",
              "    <tr>\n",
              "      <th>21</th>\n",
              "      <td>4.8</td>\n",
              "      <td>54</td>\n",
              "    </tr>\n",
              "    <tr>\n",
              "      <th>22</th>\n",
              "      <td>3.8</td>\n",
              "      <td>35</td>\n",
              "    </tr>\n",
              "    <tr>\n",
              "      <th>23</th>\n",
              "      <td>6.9</td>\n",
              "      <td>76</td>\n",
              "    </tr>\n",
              "    <tr>\n",
              "      <th>24</th>\n",
              "      <td>7.8</td>\n",
              "      <td>86</td>\n",
              "    </tr>\n",
              "  </tbody>\n",
              "</table>\n",
              "</div>"
            ],
            "text/plain": [
              "    Hours  Scores\n",
              "0     2.5      21\n",
              "1     5.1      47\n",
              "2     3.2      27\n",
              "3     8.5      75\n",
              "4     3.5      30\n",
              "5     1.5      20\n",
              "6     9.2      88\n",
              "7     5.5      60\n",
              "8     8.3      81\n",
              "9     2.7      25\n",
              "10    7.7      85\n",
              "11    5.9      62\n",
              "12    4.5      41\n",
              "13    3.3      42\n",
              "14    1.1      17\n",
              "15    8.9      95\n",
              "16    2.5      30\n",
              "17    1.9      24\n",
              "18    6.1      67\n",
              "19    7.4      69\n",
              "20    2.7      30\n",
              "21    4.8      54\n",
              "22    3.8      35\n",
              "23    6.9      76\n",
              "24    7.8      86"
            ]
          },
          "metadata": {
            "tags": []
          },
          "execution_count": 60
        }
      ]
    },
    {
      "cell_type": "markdown",
      "metadata": {
        "id": "5RNeW5HqZsuH"
      },
      "source": [
        "# ***Visualizing the Data***"
      ]
    },
    {
      "cell_type": "code",
      "metadata": {
        "colab": {
          "base_uri": "https://localhost:8080/",
          "height": 295
        },
        "id": "sI64ZpBAZx2r",
        "outputId": "ac535433-7ca8-4bcc-83c6-2e188688e43c"
      },
      "source": [
        "data.plot(kind='scatter',x='Hours',y='Scores')\r\n",
        "plt.title('House vs Scores')\r\n",
        "plt.show()"
      ],
      "execution_count": 106,
      "outputs": [
        {
          "output_type": "display_data",
          "data": {
            "image/png": "[encoded data removed]",
            "text/plain": [
              "<Figure size 432x288 with 1 Axes>"
            ]
          },
          "metadata": {
            "tags": [],
            "needs_background": "light"
          }
        }
      ]
    },
    {
      "cell_type": "markdown",
      "metadata": {
        "id": "BttZru04fea1"
      },
      "source": [
        "# ***Train-Test Split***"
      ]
    },
    {
      "cell_type": "code",
      "metadata": {
        "colab": {
          "base_uri": "https://localhost:8080/"
        },
        "id": "9PTPBKWjfhyl",
        "outputId": "795a7e35-f872-4a75-dbeb-968d602baf0b"
      },
      "source": [
        "Train_X,Test_X,Train_Y,Test_Y=model_selection.train_test_split(data['Hours'],data['Scores'])\r\n",
        "print('=>Train_X Shape ',Train_X.shape)\r\n",
        "print('=>Train_Y Shape: ',Train_Y.shape)\r\n",
        "print('=>Test_X Shape: ',Test_X.shape)\r\n",
        "print('=>Test_Y Shape: ',Test_Y.shape)"
      ],
      "execution_count": 91,
      "outputs": [
        {
          "output_type": "stream",
          "text": [
            "=>Train_X Shape  (18,)\n",
            "=>Train_Y Shape:  (18,)\n",
            "=>Test_X Shape:  (7,)\n",
            "=>Test_Y Shape:  (7,)\n"
          ],
          "name": "stdout"
        }
      ]
    },
    {
      "cell_type": "markdown",
      "metadata": {
        "id": "sNDyr-k7hURf"
      },
      "source": [
        "# ***Visualizing Training and Testing Data***"
      ]
    },
    {
      "cell_type": "code",
      "metadata": {
        "colab": {
          "base_uri": "https://localhost:8080/",
          "height": 295
        },
        "id": "L5pHUUNGhYD1",
        "outputId": "31e37a45-1625-49b2-c042-350762eb216d"
      },
      "source": [
        "plt.scatter(Train_X,Train_Y,label='Training Data',color='r',alpha=.7)\r\n",
        "plt.scatter(Test_X,Test_Y,label='Testing Data',color='b',alpha=.7)\r\n",
        "plt.legend()\r\n",
        "plt.xlabel(\"Hours\")\r\n",
        "plt.ylabel(\"Score (%)\")\r\n",
        "plt.title('Train Test Split')\r\n",
        "plt.show()"
      ],
      "execution_count": 92,
      "outputs": [
        {
          "output_type": "display_data",
          "data": {
            "image/png": "[encoded data removed]",
            "text/plain": [
              "<Figure size 432x288 with 1 Axes>"
            ]
          },
          "metadata": {
            "tags": [],
            "needs_background": "light"
          }
        }
      ]
    },
    {
      "cell_type": "markdown",
      "metadata": {
        "id": "9hnJSLBkiOZX"
      },
      "source": [
        "# ***Training the Model***"
      ]
    },
    {
      "cell_type": "code",
      "metadata": {
        "colab": {
          "base_uri": "https://localhost:8080/"
        },
        "id": "Tp5_ETMtiRbT",
        "outputId": "2af43003-f1aa-4679-fa45-8a524d370028"
      },
      "source": [
        "model=LinearRegression()\r\n",
        "model.fit(Train_X.values.reshape(-1,1),Train_Y)"
      ],
      "execution_count": 93,
      "outputs": [
        {
          "output_type": "execute_result",
          "data": {
            "text/plain": [
              "LinearRegression(copy_X=True, fit_intercept=True, n_jobs=None, normalize=False)"
            ]
          },
          "metadata": {
            "tags": []
          },
          "execution_count": 93
        }
      ]
    },
    {
      "cell_type": "markdown",
      "metadata": {
        "id": "q5XEVpBQjJd1"
      },
      "source": [
        "# ***Testing the Model***"
      ]
    },
    {
      "cell_type": "code",
      "metadata": {
        "colab": {
          "base_uri": "https://localhost:8080/",
          "height": 295
        },
        "id": "w9xr3-0XjOGK",
        "outputId": "9a8c1632-4b21-4c37-f7ed-2e13b3b61590"
      },
      "source": [
        "prediction=model.predict(Test_X.values.reshape(-1,1))\r\n",
        "\r\n",
        "plt.plot(Test_X,prediction,label='Linear Regression',color='r')\r\n",
        "plt.scatter(Test_X,Test_Y,label='Actual Data',color='b',alpha=.7)\r\n",
        "plt.legend()\r\n",
        "plt.xlabel(\"Hours\")\r\n",
        "plt.ylabel(\"Score (%)\")\r\n",
        "plt.title(\"Comparison\")\r\n",
        "plt.show()\r\n"
      ],
      "execution_count": 94,
      "outputs": [
        {
          "output_type": "display_data",
          "data": {
            "image/png": "[encoded data removed]",
            "text/plain": [
              "<Figure size 432x288 with 1 Axes>"
            ]
          },
          "metadata": {
            "tags": [],
            "needs_background": "light"
          }
        }
      ]
    },
    {
      "cell_type": "markdown",
      "metadata": {
        "id": "cwka6X-tpFI9"
      },
      "source": [
        "# ***Analyzing the Model***"
      ]
    },
    {
      "cell_type": "code",
      "metadata": {
        "colab": {
          "base_uri": "https://localhost:8080/"
        },
        "id": "YKg7ebI-pIf-",
        "outputId": "0900f13f-8f25-469e-876c-4c0d6da92962"
      },
      "source": [
        "print(\"**** Actual vs Predicted Data ****\")\r\n",
        "print(\"=\"*32)\r\n",
        "df=pd.DataFrame({'Actual Data':Test_Y,'Predicted Data':prediction})\r\n",
        "print(df)\r\n",
        "print(\"=\"*32)\r\n",
        "\r\n",
        "print(\"\\n**** Statistics ****\")\r\n",
        "print(\"=\"*35)\r\n",
        "print(\"R2 Score: \",\"{:.2f}\".format(r2_score(Test_Y,prediction)))\r\n",
        "print(\"\\nMean Absolute Error(MAE): \",\"{:.2f}\".format(mean_absolute_error(Test_Y,prediction)))\r\n",
        "print(\"\\nMean Squared Error(MSE): \",\"{:.2f}\".format(mean_squared_error(Test_Y,prediction)))\r\n",
        "print(\"\\nRoot Mean Squared Error(MSE): \",\"{:.2f}\".format(mean_squared_error(Test_Y,prediction,squared=False)))\r\n",
        "print(\"=\"*35)"
      ],
      "execution_count": 95,
      "outputs": [
        {
          "output_type": "stream",
          "text": [
            "**** Actual vs Predicted Data ****\n",
            "================================\n",
            "    Actual Data  Predicted Data\n",
            "16           30       26.395405\n",
            "21           54       49.243181\n",
            "5            20       16.461590\n",
            "23           76       70.104193\n",
            "12           41       46.263036\n",
            "6            88       92.951969\n",
            "22           35       39.309365\n",
            "================================\n",
            "\n",
            "**** Statistics ****\n",
            "===================================\n",
            "R2 Score:  0.96\n",
            "\n",
            "Mean Absolute Error(MAE):  4.62\n",
            "\n",
            "Mean Squared Error(MSE):  21.96\n",
            "\n",
            "Root Mean Squared Error(MSE):  4.69\n",
            "===================================\n"
          ],
          "name": "stdout"
        }
      ]
    },
    {
      "cell_type": "markdown",
      "metadata": {
        "id": "dcwdTgBkWFOn"
      },
      "source": [
        "# ***Predicting Data***"
      ]
    },
    {
      "cell_type": "code",
      "metadata": {
        "colab": {
          "base_uri": "https://localhost:8080/"
        },
        "id": "7gaZR1kSWIsZ",
        "outputId": "bf98077b-0441-4397-f3b5-13c735ec3c72"
      },
      "source": [
        "#Predicting Score based on Study Hours\r\n",
        "hrs=float(input('\\nEnter study hours: '))\r\n",
        "score=model.predict([[hrs]])\r\n",
        "print(\"=\"*90)\r\n",
        "print(\"Number of study hours = {0} hours/day\".format(hrs))\r\n",
        "print(\"\\nPredicted score = {0} %\".format(\"{:.2f}\".format(score[0])))\r\n",
        "print('\\nConclusion: The predicted score if a student studies for {0} hours/day is {1} %'.format(hrs,\"{:.2f}\".format(score[0])))\r\n",
        "print(\"=\"*90)"
      ],
      "execution_count": 96,
      "outputs": [
        {
          "output_type": "stream",
          "text": [
            "\n",
            "Enter study hours: 9.25\n",
            "==========================================================================================\n",
            "Number of study hours = 9.25 hours/day\n",
            "\n",
            "Predicted score = 93.45 %\n",
            "\n",
            "Conclusion: The predicted score if a student studies for 9.25 hours/day is 93.45 %\n",
            "==========================================================================================\n"
          ],
          "name": "stdout"
        }
      ]
    },
    {
      "cell_type": "markdown",
      "metadata": {
        "id": "ft6JDiIXcM41"
      },
      "source": [
        "# ***Manual Prediction***"
      ]
    },
    {
      "cell_type": "code",
      "metadata": {
        "colab": {
          "base_uri": "https://localhost:8080/"
        },
        "id": "ZtcYhgEycRIz",
        "outputId": "f7e64750-31c6-4f74-cd3d-e1c066825a0b"
      },
      "source": [
        "#Linear Equation is y=m*x+c\r\n",
        "x=float(input('\\nEnter x: '))\r\n",
        "m=model.coef_\r\n",
        "c=model.intercept_\r\n",
        "y=m*x+c\r\n",
        "print(\"=\"*50)\r\n",
        "print('\\nCoefficient (m): ',m[0])\r\n",
        "print('\\nIntercept (c): ',c)\r\n",
        "print('\\nLinear Equation is y = {0} * x + {1}'.format(m[0],c))\r\n",
        "print('\\ny = {0} if x = {1}'.format(\"{:.2f}\".format(y[0]),x))\r\n",
        "print(\"=\"*50)"
      ],
      "execution_count": 105,
      "outputs": [
        {
          "output_type": "stream",
          "text": [
            "\n",
            "Enter x: 9.25\n",
            "==================================================\n",
            "\n",
            "Coefficient (m):  9.933815491966518\n",
            "\n",
            "Intercept (c):  1.5608662883268707\n",
            "\n",
            "Linear Equation is y = 9.933815491966518 * x + 1.5608662883268707\n",
            "\n",
            "y = 93.45 if x = 9.25\n",
            "==================================================\n"
          ],
          "name": "stdout"
        }
      ]
    }
  ]
}